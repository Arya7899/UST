{
 "cells": [
  {
   "cell_type": "markdown",
   "id": "e172c097",
   "metadata": {},
   "source": [
    "Crerate a game of snake water gun using python"
   ]
  },
  {
   "cell_type": "code",
   "execution_count": 1,
   "id": "0a393334",
   "metadata": {},
   "outputs": [
    {
     "name": "stdout",
     "output_type": "stream",
     "text": [
      "Enter your choice \n",
      "  \n",
      "                  (s) for Snake,\n",
      "                  (w) for Water,\n",
      "                   (g) for Guns\n",
      " Snake(s) , Water(w) or Gun(g)....\n",
      "\n",
      "Player1 Choice g and Player2 Choice s\n",
      "\n",
      "Congratulations, You've Won the Game...!\n"
     ]
    }
   ],
   "source": [
    "import random\n",
    "\n",
    "    \n",
    "player2 = input('''Enter your choice \\n  \n",
    "                  (s) for Snake,\n",
    "                  (w) for Water,\n",
    "                   (g) for Gun'''\n",
    "               )\n",
    "\n",
    "def winning_game(player1, player2):\n",
    "    \n",
    "    if player1 == player2:\n",
    "        return None\n",
    "    \n",
    "    elif player1 == 's':\n",
    "        if player2 == 'w':\n",
    "            return 'Player2 fails and Player1 wins'\n",
    "        elif player2 == 'g':\n",
    "            return 'Player2 wins and Player1 fails'\n",
    "        \n",
    "    \n",
    "    elif player1 == 'w':\n",
    "        if player2 == 's':\n",
    "            return 'Player2 wins and Player1 fails'\n",
    "        elif player2 == 'g':\n",
    "            return 'Player2 fails and PLayer1 wins'\n",
    "        \n",
    "    elif player1 == 'g':\n",
    "        if player2 == 's':\n",
    "            return 'Player2 fails and Player1 wins'\n",
    "        elif player2 == 'w':\n",
    "            return 'Player2 wins and Player1 fails'\n",
    "        \n",
    "\n",
    "print(\" Snake(s) , Water(w) or Gun(g)....\")\n",
    "\n",
    "rand_num = random.randint(1,3)\n",
    "if rand_num == 1:\n",
    "    player1 = 's'\n",
    "elif rand_num == 2:\n",
    "    player1 = 'w'\n",
    "elif rand_num == 3:\n",
    "    player1 = 'g'\n",
    "else:\n",
    "    print('invalid option')        \n",
    "        \n",
    "game_status = winning_game(player1, player2)\n",
    "\n",
    "print(f\"\\nPlayer1 Choice {player1} and Player2 Choice {player2}\")\n",
    "\n",
    "if(game_status == None):\n",
    "    print(\"\\nGame Tie\")\n",
    "elif(game_status):\n",
    "    print(\"\\nCongratulations, You've Won the Game...!\")\n",
    "else:\n",
    "    print(\"\\nYou've Lost the Game, Better Luck Next Time...\")\n",
    "    \n",
    "    "
   ]
  },
  {
   "cell_type": "code",
   "execution_count": null,
   "id": "2ddb1bfb",
   "metadata": {},
   "outputs": [],
   "source": []
  }
 ],
 "metadata": {
  "kernelspec": {
   "display_name": "Python 3 (ipykernel)",
   "language": "python",
   "name": "python3"
  },
  "language_info": {
   "codemirror_mode": {
    "name": "ipython",
    "version": 3
   },
   "file_extension": ".py",
   "mimetype": "text/x-python",
   "name": "python",
   "nbconvert_exporter": "python",
   "pygments_lexer": "ipython3",
   "version": "3.9.12"
  }
 },
 "nbformat": 4,
 "nbformat_minor": 5
}
