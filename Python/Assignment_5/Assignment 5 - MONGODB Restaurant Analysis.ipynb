{
 "cells": [
  {
   "cell_type": "markdown",
   "id": "72418518",
   "metadata": {},
   "source": [
    "##  Assignment 5 - MongoDB Restaurant Analysis"
   ]
  },
  {
   "cell_type": "markdown",
   "id": "189e5e07",
   "metadata": {},
   "source": [
    "1.) Create database – restaurant, create collection – rescollection. Insert the documents into collections.\n"
   ]
  },
  {
   "cell_type": "code",
   "execution_count": 1,
   "id": "6cbf92d5",
   "metadata": {},
   "outputs": [
    {
     "name": "stdout",
     "output_type": "stream",
     "text": [
      "MongoClient(host=['localhost:27017'], document_class=dict, tz_aware=False, connect=True)\n"
     ]
    }
   ],
   "source": [
    "from pymongo import MongoClient\n",
    "import json\n",
    "if __name__ == \"__main__\":\n",
    "    client = MongoClient(\"mongodb://localhost:27017\")\n",
    "    print(client)\n",
    "    #first create a database\n",
    "    db = client['restaurant']\n",
    "    #collection\n",
    "    collection = db['rescollection']\n",
    "    #loading or opening json file\n",
    "    with open ('C:/Python/restaurants-dataset.json', \"r\", encoding=\"utf-8\") as file:\n",
    "        record = file.read()\n",
    "        record = record.replace('\\n', '')\n",
    "        record = record.replace('}{', '},{')\n",
    "        record = \"[\" + record + \"]\"\n",
    "        file_data = json.loads(record)\n",
    "        \n",
    "    if isinstance(file_data, list):\n",
    "        collection.insert_many(file_data)\n",
    "    else:\n",
    "        collection.insert_one(file_data)"
   ]
  },
  {
   "cell_type": "markdown",
   "id": "36fabcfe",
   "metadata": {},
   "source": [
    "2.) Display all the documents in the collection restaurants."
   ]
  },
  {
   "cell_type": "code",
   "execution_count": 2,
   "id": "01f0bf26",
   "metadata": {},
   "outputs": [
    {
     "ename": "AttributeError",
     "evalue": "'Cursor' object has no attribute 'pretty'",
     "output_type": "error",
     "traceback": [
      "\u001b[1;31m---------------------------------------------------------------------------\u001b[0m",
      "\u001b[1;31mAttributeError\u001b[0m                            Traceback (most recent call last)",
      "Input \u001b[1;32mIn [2]\u001b[0m, in \u001b[0;36m<cell line: 1>\u001b[1;34m()\u001b[0m\n\u001b[1;32m----> 1\u001b[0m \u001b[43mdb\u001b[49m\u001b[38;5;241;43m.\u001b[39;49m\u001b[43mrescollection\u001b[49m\u001b[38;5;241;43m.\u001b[39;49m\u001b[43mfind\u001b[49m\u001b[43m(\u001b[49m\u001b[43m)\u001b[49m\u001b[38;5;241;43m.\u001b[39;49m\u001b[43mpretty\u001b[49m()\n",
      "\u001b[1;31mAttributeError\u001b[0m: 'Cursor' object has no attribute 'pretty'"
     ]
    }
   ],
   "source": [
    "db.rescollection.find().pretty()\n"
   ]
  },
  {
   "cell_type": "markdown",
   "id": "655a7ad4",
   "metadata": {},
   "source": [
    "3.)Display the fields restaurant_id, name, borough, and zip code, but exclude the \n",
    "field _id for all the documents in the collection restaurant.\n"
   ]
  },
  {
   "cell_type": "code",
   "execution_count": null,
   "id": "c400bc1c",
   "metadata": {},
   "outputs": [],
   "source": [
    " db.rescollection.find({}, {_id:0,restaurant_id:1, name:1, borough:1, zipcode:1})"
   ]
  },
  {
   "cell_type": "markdown",
   "id": "1fa96eef",
   "metadata": {},
   "source": [
    "4) Find the restaurants who achieved a score more than 90.\n"
   ]
  },
  {
   "cell_type": "code",
   "execution_count": null,
   "id": "c9c5acdc",
   "metadata": {},
   "outputs": [],
   "source": [
    " db.rescollection.find({\"grades.score\": {$gt:90}}, {name:1})"
   ]
  },
  {
   "cell_type": "markdown",
   "id": "f80419f5",
   "metadata": {},
   "source": [
    "5) Show the restaurants that achieved a score, more than 80 but less than 100.\n"
   ]
  },
  {
   "cell_type": "code",
   "execution_count": null,
   "id": "dd1ea311",
   "metadata": {},
   "outputs": [],
   "source": [
    "db.rescollection.find({\"grades.score\": {$gt : 80 , $lt :100}}, {name:1})"
   ]
  },
  {
   "cell_type": "markdown",
   "id": "23683ef1",
   "metadata": {},
   "source": [
    "6) Write Query to show the restaurants that do not prepare any cuisine of american & their grade score > 70.\n"
   ]
  },
  {
   "cell_type": "code",
   "execution_count": null,
   "id": "52489c92",
   "metadata": {},
   "outputs": [],
   "source": [
    " db.rescollection.find({$nor: [{cuisine : 'american'},{'grades.score' : {$gt : 70}}]}, {name:1})"
   ]
  },
  {
   "cell_type": "markdown",
   "id": "2a12233c",
   "metadata": {},
   "source": [
    "7) Write a MongoDB query to arrange the name of the cuisine in an ascending order and for that same borough arranged in descending order.\n"
   ]
  },
  {
   "cell_type": "code",
   "execution_count": null,
   "id": "3e26607f",
   "metadata": {},
   "outputs": [],
   "source": [
    " db.rescollection.find().sort({cuisine:1, borough:-1})"
   ]
  },
  {
   "cell_type": "markdown",
   "id": "3fb03898",
   "metadata": {},
   "source": [
    "8) Write a MongoDB query to arrange the name of the cuisine in descending order.\n"
   ]
  },
  {
   "cell_type": "code",
   "execution_count": null,
   "id": "6017e2a1",
   "metadata": {},
   "outputs": [],
   "source": [
    " db.rescollection.find({},{cuisine : 1}).sort({cuisine:-1})"
   ]
  },
  {
   "cell_type": "markdown",
   "id": "2efc5f17",
   "metadata": {},
   "source": [
    "9) Show the restaurant Id, name, borough and cuisines for those restaurants which prepared dish except 'American' and 'Chinese' or restaurant's name begins with letter 'Bil'.\n"
   ]
  },
  {
   "cell_type": "code",
   "execution_count": null,
   "id": "fda46602",
   "metadata": {},
   "outputs": [],
   "source": [
    "db.rescollection.find({$or : [{\"name\" : { $regex : /^Bil.*/}}, {\"$and\":[{\"cuisine\":{$ne : \"American\"}}, {\"cuisine\": {$ne: \"Chinese\"}}]}]}, {restaurant_id : 1, name : 1, borough:1})\n"
   ]
  },
  {
   "cell_type": "markdown",
   "id": "21390513",
   "metadata": {},
   "source": [
    "10) Show the restaurant Id, name, borough and cuisines and score for restaurant's name begins with letter 'Bil'.\n"
   ]
  },
  {
   "cell_type": "code",
   "execution_count": null,
   "id": "566a755b",
   "metadata": {},
   "outputs": [],
   "source": [
    "db.rescollection.find({\"name\" : { $regex : /^Bil.*/}}, {restaurant_id : 1, name : 1,borough: 1,'grades.score' :1, cuisine : 1})"
   ]
  },
  {
   "cell_type": "markdown",
   "id": "33e599eb",
   "metadata": {},
   "source": [
    "11) Show the restaurant Id, name, borough and cuisines and score for restaurant serving “Indian” as cuisines. \n"
   ]
  },
  {
   "cell_type": "code",
   "execution_count": null,
   "id": "1de9af32",
   "metadata": {},
   "outputs": [],
   "source": [
    "db.rescollection.find({cuisine : 'Indian'}, {restaurant_id : 1, name : 1,borough: 1,'grades.score' :1, cuisine : 1})"
   ]
  },
  {
   "cell_type": "markdown",
   "id": "f079c7e8",
   "metadata": {},
   "source": [
    "12) Write a MongoDB query to find the restaurant Id, name, borough, cuisines, and score for those restaurants which contain 'bi' as last three letters for its name.\n"
   ]
  },
  {
   "cell_type": "code",
   "execution_count": null,
   "id": "2970d9a4",
   "metadata": {},
   "outputs": [],
   "source": [
    "db.rescollection.find({\"name\" : { $regex : /.*bi$/}}, {restaurant_id : 1, name : 1,borough: 1,'grades.score' :1, cuisine : 1})"
   ]
  },
  {
   "cell_type": "markdown",
   "id": "d943a905",
   "metadata": {},
   "source": [
    "13) Write a MongoDB query to find the restaurant Id, name, borough, cuisines, and score for those restaurants which contain 'il' as last three letters for its name.\n"
   ]
  },
  {
   "cell_type": "code",
   "execution_count": null,
   "id": "4f432eb7",
   "metadata": {},
   "outputs": [],
   "source": [
    "db.rescollection.find({\"name\" : { $regex : /.*il$/}}, {restaurant_id : 1, name : 1,borough: 1,'grades.score' :1, cuisine : 1})"
   ]
  },
  {
   "cell_type": "markdown",
   "id": "55450545",
   "metadata": {},
   "source": [
    "14)Write a query to show all the restaurant Id, name, borough, cuisines, and score for those restaurants which contain 'il' anywhere in its name.\n"
   ]
  },
  {
   "cell_type": "code",
   "execution_count": null,
   "id": "78716c08",
   "metadata": {},
   "outputs": [],
   "source": [
    "db.rescollection.find({\"name\" : { $regex : /.*il.*/}}, {restaurant_id : 1, name : 1,borough: 1,'grades.score' :1, cuisine : 1})"
   ]
  },
  {
   "cell_type": "markdown",
   "id": "fe29b293",
   "metadata": {},
   "source": [
    "15.) Write a MongoDB query which will select the restaurant Id, name and grades for those restaurants which returns 0 as a remainder after dividing the score by 7."
   ]
  },
  {
   "cell_type": "code",
   "execution_count": null,
   "id": "e34cd690",
   "metadata": {},
   "outputs": [],
   "source": [
    "db.rescollection.find({\"grades.score\":{$mod : [7,0]}},{\"restaurant_id\" : 1,\"name\":1,\"grades\":1});"
   ]
  },
  {
   "cell_type": "markdown",
   "id": "97fd563b",
   "metadata": {},
   "source": [
    "16.) Show document/record counts that has street and not street in addresses. "
   ]
  },
  {
   "cell_type": "code",
   "execution_count": null,
   "id": "e0e3d6fe",
   "metadata": {},
   "outputs": [],
   "source": [
    "db.rescollection.find({\"address.street\":{ $exists : true }});"
   ]
  },
  {
   "cell_type": "markdown",
   "id": "55dabe4c",
   "metadata": {},
   "source": [
    "17) Write a MongoDB query to find the restaurants which do not prepare any cuisine of 'American' and achieved a score more than 70 and located in the longitude less than -65.754168 \n"
   ]
  },
  {
   "cell_type": "code",
   "execution_count": null,
   "id": "c27396a1",
   "metadata": {},
   "outputs": [],
   "source": [
    "db.rescollection.find({\"cuisine\" : {$ne : \"American \"},\"grades.score\" :{$gt: 70},\"address.coord\" : {$lt : -65.754168}});"
   ]
  }
 ],
 "metadata": {
  "kernelspec": {
   "display_name": "Python 3 (ipykernel)",
   "language": "python",
   "name": "python3"
  },
  "language_info": {
   "codemirror_mode": {
    "name": "ipython",
    "version": 3
   },
   "file_extension": ".py",
   "mimetype": "text/x-python",
   "name": "python",
   "nbconvert_exporter": "python",
   "pygments_lexer": "ipython3",
   "version": "3.9.12"
  }
 },
 "nbformat": 4,
 "nbformat_minor": 5
}
